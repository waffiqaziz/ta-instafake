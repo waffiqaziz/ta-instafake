{
 "cells": [
  {
   "cell_type": "code",
   "execution_count": 1,
   "metadata": {},
   "outputs": [],
   "source": [
    "# library used\n",
    "from utils import import_data\n",
    "import numpy as np\n",
    "import logging\n",
    "logging.basicConfig(level=logging.DEBUG)"
   ]
  },
  {
   "cell_type": "code",
   "execution_count": 2,
   "metadata": {},
   "outputs": [
    {
     "data": {
      "text/html": [
       "<div>\n",
       "<style scoped>\n",
       "    .dataframe tbody tr th:only-of-type {\n",
       "        vertical-align: middle;\n",
       "    }\n",
       "\n",
       "    .dataframe tbody tr th {\n",
       "        vertical-align: top;\n",
       "    }\n",
       "\n",
       "    .dataframe thead th {\n",
       "        text-align: right;\n",
       "    }\n",
       "</style>\n",
       "<table border=\"1\" class=\"dataframe\">\n",
       "  <thead>\n",
       "    <tr style=\"text-align: right;\">\n",
       "      <th></th>\n",
       "      <th>user_media_count</th>\n",
       "      <th>user_follower_count</th>\n",
       "      <th>user_following_count</th>\n",
       "      <th>user_has_profil_pic</th>\n",
       "      <th>user_is_private</th>\n",
       "      <th>follower_following_ratio</th>\n",
       "      <th>user_biography_length</th>\n",
       "      <th>username_length</th>\n",
       "      <th>username_digit_count</th>\n",
       "      <th>is_fake</th>\n",
       "    </tr>\n",
       "  </thead>\n",
       "  <tbody>\n",
       "    <tr>\n",
       "      <th>0</th>\n",
       "      <td>0.0</td>\n",
       "      <td>25.0</td>\n",
       "      <td>1937.0</td>\n",
       "      <td>1.0</td>\n",
       "      <td>1.0</td>\n",
       "      <td>0.012907</td>\n",
       "      <td>0.0</td>\n",
       "      <td>10.0</td>\n",
       "      <td>0.0</td>\n",
       "      <td>1.0</td>\n",
       "    </tr>\n",
       "    <tr>\n",
       "      <th>1</th>\n",
       "      <td>0.0</td>\n",
       "      <td>324.0</td>\n",
       "      <td>4122.0</td>\n",
       "      <td>1.0</td>\n",
       "      <td>0.0</td>\n",
       "      <td>0.078603</td>\n",
       "      <td>0.0</td>\n",
       "      <td>15.0</td>\n",
       "      <td>4.0</td>\n",
       "      <td>1.0</td>\n",
       "    </tr>\n",
       "    <tr>\n",
       "      <th>2</th>\n",
       "      <td>0.0</td>\n",
       "      <td>15.0</td>\n",
       "      <td>399.0</td>\n",
       "      <td>0.0</td>\n",
       "      <td>0.0</td>\n",
       "      <td>0.037594</td>\n",
       "      <td>0.0</td>\n",
       "      <td>12.0</td>\n",
       "      <td>3.0</td>\n",
       "      <td>1.0</td>\n",
       "    </tr>\n",
       "    <tr>\n",
       "      <th>3</th>\n",
       "      <td>1.0</td>\n",
       "      <td>14.0</td>\n",
       "      <td>107.0</td>\n",
       "      <td>1.0</td>\n",
       "      <td>0.0</td>\n",
       "      <td>0.130841</td>\n",
       "      <td>0.0</td>\n",
       "      <td>10.0</td>\n",
       "      <td>1.0</td>\n",
       "      <td>1.0</td>\n",
       "    </tr>\n",
       "    <tr>\n",
       "      <th>4</th>\n",
       "      <td>0.0</td>\n",
       "      <td>264.0</td>\n",
       "      <td>4651.0</td>\n",
       "      <td>1.0</td>\n",
       "      <td>0.0</td>\n",
       "      <td>0.056762</td>\n",
       "      <td>0.0</td>\n",
       "      <td>14.0</td>\n",
       "      <td>0.0</td>\n",
       "      <td>1.0</td>\n",
       "    </tr>\n",
       "  </tbody>\n",
       "</table>\n",
       "</div>"
      ],
      "text/plain": [
       "   user_media_count  user_follower_count  user_following_count  \\\n",
       "0               0.0                 25.0                1937.0   \n",
       "1               0.0                324.0                4122.0   \n",
       "2               0.0                 15.0                 399.0   \n",
       "3               1.0                 14.0                 107.0   \n",
       "4               0.0                264.0                4651.0   \n",
       "\n",
       "   user_has_profil_pic  user_is_private  follower_following_ratio  \\\n",
       "0                  1.0              1.0                  0.012907   \n",
       "1                  1.0              0.0                  0.078603   \n",
       "2                  0.0              0.0                  0.037594   \n",
       "3                  1.0              0.0                  0.130841   \n",
       "4                  1.0              0.0                  0.056762   \n",
       "\n",
       "   user_biography_length  username_length  username_digit_count  is_fake  \n",
       "0                    0.0             10.0                   0.0      1.0  \n",
       "1                    0.0             15.0                   4.0      1.0  \n",
       "2                    0.0             12.0                   3.0      1.0  \n",
       "3                    0.0             10.0                   1.0      1.0  \n",
       "4                    0.0             14.0                   0.0      1.0  "
      ]
     },
     "execution_count": 2,
     "metadata": {},
     "output_type": "execute_result"
    }
   ],
   "source": [
    "# get the dataset\n",
    "dataset_path = \"data\"\n",
    "dataset_version = \"fake-v1.0\"\n",
    "\n",
    "fake_dataset = import_data(dataset_path, dataset_version).T\n",
    "fake_dataset.head()"
   ]
  },
  {
   "cell_type": "code",
   "execution_count": 7,
   "metadata": {},
   "outputs": [
    {
     "name": "stdout",
     "output_type": "stream",
     "text": [
      "[[   0   25 1937 ...    0   10    0]\n",
      " [   0  324 4122 ...    0   15    4]\n",
      " [   0   15  399 ...    0   12    3]\n",
      " ...\n",
      " [   1   78  783 ...   28   11    0]\n",
      " [   4  135  517 ...   44   11    4]\n",
      " [   4  203  823 ...   71   12    0]]\n",
      "[1. 1. 1. ... 0. 0. 0.]\n"
     ]
    }
   ],
   "source": [
    "# drop unused feature for data training\n",
    "X = fake_dataset.drop(['is_fake', 'follower_following_ratio'], axis=1)\n",
    "\n",
    "# label\n",
    "y = fake_dataset.is_fake\n",
    "\n",
    "# change the format to integer to make it faster\n",
    "X = X.astype(int) \n",
    "\n",
    "# change the format to numpy array\n",
    "X_num = X.to_numpy()\n",
    "y_num  = y.to_numpy()\n",
    "print(X_num)\n",
    "print(y_num)\n",
    "\n",
    "def train_test_split(X, y, test_size=0.2):\n",
    "    i = int((1 - test_size) * X.shape[0]) \n",
    "    o = np.random.permutation(X.shape[0])\n",
    "    \n",
    "    X_train, X_test = np.split(np.take(X,o,axis=0), [i])\n",
    "    y_train, y_test = np.split(np.take(y,o), [i])\n",
    "    return X_train, X_test, y_train, y_test\n",
    "\n",
    "# slice the data into variable for training\n",
    "X_train, X_test, y_train, y_test = train_test_split(X_num, y_num, test_size=0.2)"
   ]
  },
  {
   "cell_type": "code",
   "execution_count": 4,
   "metadata": {},
   "outputs": [],
   "source": [
    "class SVM:\n",
    "  def __init__(self, kernel='linear', C=10000.0, max_iter=100, degree=2, gamma=1):\n",
    "    self.kernel = {'poly'  : lambda x,y: np.dot(x, y.T)**degree,\n",
    "                   'rbf'   : lambda x,y: np.exp(-gamma*np.sum((y - x[:,np.newaxis])**2, axis=-1)),\n",
    "                   'linear': lambda x,y: np.dot(x, y.T)}[kernel]\n",
    "    self.C = C\n",
    "    self.max_iter = max_iter\n",
    "\n",
    "  def restrict_to_square(self, t, v0, u):\n",
    "    t = (np.clip(v0 + t*u, 0, self.C) - v0)[1]/u[1]\n",
    "    return (np.clip(v0 + t*u, 0, self.C) - v0)[0]/u[0]\n",
    "\n",
    "  def fit(self, X, y):\n",
    "    self.X = X.copy() # store for decision function\n",
    "    self.y = y * 2 - 1 # convert classes 0 and 1 to -1 and +1 , store\n",
    "    self.lambdas = np.zeros_like(self.y, dtype=float) # dual variables , all zeros satisfy eq.(1 b)\n",
    "    self.K = self.kernel(self.X, self.X) * self.y[:,np.newaxis] * self.y # eq.(4)\n",
    "    \n",
    "    iters = 0\n",
    "    for _ in range(self.max_iter):\n",
    "      iters += 1\n",
    "      for idxM in range(len(self.lambdas)):                                       # iterate all lambda_M\n",
    "        idxL = np.random.randint(0, len(self.lambdas))                            # choose randomly lambda_L\n",
    "        Q = self.K[[[idxM, idxM], [idxL, idxL]], [[idxM, idxL], [idxM, idxL]]]    # eq.(5c)\n",
    "        v0 = self.lambdas[[idxM, idxL]]                                           # eq.(5a)\n",
    "        k0 = 1 - np.sum(self.lambdas * self.K[[idxM, idxL]], axis=1)              # eq.(5b)\n",
    "        u = np.array([-self.y[idxL], self.y[idxM]])                               # eq.(6b) \n",
    "        t_max = np.dot(k0, u) / (np.dot(np.dot(Q, u), u) + 1E-15) # eq.(7) , +1E -15 if idxM == idxL                \n",
    "        self.lambdas[[idxM, idxL]] = v0 + u * self.restrict_to_square(t_max, v0, u) # eq.(8)\n",
    "    \n",
    "    logging.info(\"Convergence has reached after %s.\" % iters)\n",
    "    idx, = np.nonzero(self.lambdas > 1E-15) # select indexes of support vectors\n",
    "    self.b = np.mean((1.0 - np.sum(self.K[idx] * self.lambdas, axis=1)) * self.y[idx])\n",
    "  \n",
    "  def decision_function(self, X):\n",
    "    return np.sum(self.kernel(X, self.X) * self.y * self.lambdas, axis=1) + self.b  # f from eq .(2)\n",
    "\n",
    "  def predict(self, X):\n",
    "    return (np.sign(self.decision_function(X)) + 1) // 2\n",
    "  \n",
    "# Convert one-hot representation into one column\n",
    "def unhot(function): \n",
    "\n",
    "  def wrapper(actual, predicted):\n",
    "      if len(actual.shape) > 1 and actual.shape[1] > 1:\n",
    "          actual = actual.argmax(axis=1)\n",
    "      if len(predicted.shape) > 1 and predicted.shape[1] > 1:\n",
    "          predicted = predicted.argmax(axis=1)\n",
    "      return function(actual, predicted)\n",
    "\n",
    "  return wrapper\n",
    "\n",
    "@unhot\n",
    "def classification_error(actual, predicted):\n",
    "    return (actual != predicted).sum() / float(actual.shape[0])\n",
    "\n",
    "@unhot\n",
    "def accuracy(actual, predicted):\n",
    "    return 1.0 - classification_error(actual, predicted)"
   ]
  },
  {
   "cell_type": "code",
   "execution_count": 9,
   "metadata": {},
   "outputs": [
    {
     "name": "stderr",
     "output_type": "stream",
     "text": [
      "INFO:root:Convergence has reached after 100.\n"
     ]
    },
    {
     "name": "stdout",
     "output_type": "stream",
     "text": [
      "Classification accuracy with RBF kernel: [0. 0. 1. 0. 1. 1. 0. 0. 0. 0. 0. 0. 1. 0. 0. 0. 0. 0. 0. 0. 0. 0. 0. 0.\n",
      " 1. 0. 0. 0. 0. 0. 0. 0. 0. 0. 1. 0. 0. 0. 0. 0. 0. 0. 0. 0. 0. 0. 1. 0.\n",
      " 0. 0. 0. 0. 0. 0. 0. 0. 0. 0. 1. 0. 0. 0. 0. 0. 0. 0. 1. 0. 0. 0. 0. 0.\n",
      " 0. 0. 0. 0. 0. 1. 0. 1. 0. 0. 0. 0. 0. 1. 0. 0. 1. 0. 0. 1. 0. 0. 1. 0.\n",
      " 0. 0. 0. 0. 0. 0. 0. 0. 0. 0. 1. 0. 0. 0. 0. 0. 0. 0. 0. 0. 0. 0. 0. 0.\n",
      " 0. 0. 0. 0. 0. 0. 0. 0. 0. 0. 0. 0. 0. 1. 0. 0. 0. 0. 0. 0. 0. 0. 0. 0.\n",
      " 0. 0. 0. 0. 0. 1. 1. 1. 0. 0. 1. 0. 1. 1. 0. 1. 0. 0. 1. 0. 0. 1. 0. 0.\n",
      " 0. 0. 0. 0. 0. 0. 0. 0. 0. 0. 0. 0. 0. 0. 0. 0. 0. 0. 1. 0. 0. 0. 1. 0.\n",
      " 0. 0. 0. 0. 0. 1. 1. 0. 0. 0. 0. 0. 0. 0. 0. 0. 1. 0. 0. 1. 0. 0. 0. 1.\n",
      " 0. 0. 0. 0. 0. 0. 1. 0. 0. 0. 0. 0. 0. 1. 1. 0. 0. 0. 0. 0. 0. 0. 0.]\n"
     ]
    }
   ],
   "source": [
    "model = SVM(kernel= 'rbf', max_iter=100, C=0.5)\n",
    "model.fit(X_train, y_train) \n",
    "predictions = model.predict(X_test)\n",
    "print(\"Classification accuracy with RBF kernel: %s\" % (accuracy(y_test, predictions)))\n",
    "\n",
    "model = SVM(kernel= 'linear', max_iter=100, C=0.5)\n",
    "model.fit(X_train, y_train) \n",
    "predictions = model.predict(X_test)\n",
    "print(\"Classification accuracy with linear kernel: %s\" % (accuracy(y_test, predictions)))\n",
    "\n",
    "model = SVM(kernel= 'poly', max_iter=100, C=0.5)\n",
    "model.fit(X_train, y_train) \n",
    "predictions = model.predict(X_test)\n",
    "print(\"Classification accuracy with poly kernel: %s\" % (accuracy(y_test, predictions)))"
   ]
  },
  {
   "attachments": {},
   "cell_type": "markdown",
   "metadata": {},
   "source": [
    "## With PCA"
   ]
  },
  {
   "cell_type": "code",
   "execution_count": 8,
   "metadata": {},
   "outputs": [
    {
     "name": "stderr",
     "output_type": "stream",
     "text": [
      "INFO:root:Convergence has reached after 100.\n"
     ]
    },
    {
     "name": "stdout",
     "output_type": "stream",
     "text": [
      "Classification accuracy with RBF kernel + PCA: 0.9163179916317992\n"
     ]
    },
    {
     "name": "stderr",
     "output_type": "stream",
     "text": [
      "INFO:root:Convergence has reached after 100.\n"
     ]
    },
    {
     "name": "stdout",
     "output_type": "stream",
     "text": [
      "Classification accuracy with linear kernel + PCA: 0.895397489539749\n"
     ]
    },
    {
     "name": "stderr",
     "output_type": "stream",
     "text": [
      "INFO:root:Convergence has reached after 100.\n"
     ]
    },
    {
     "name": "stdout",
     "output_type": "stream",
     "text": [
      "Classification accuracy with poly kernel + PCA: 0.8786610878661087\n"
     ]
    }
   ],
   "source": [
    "from sklearn.decomposition import PCA\n",
    "from sklearn.preprocessing import StandardScaler\n",
    "\n",
    "pca = PCA(n_components=2)\n",
    "scaler = StandardScaler()\n",
    "\n",
    "X_train = pca.fit_transform(X_train)\n",
    "X_test = pca.transform(X_test)\n",
    "\n",
    "X_train = scaler.fit_transform(X_train)\n",
    "X_test = scaler.transform(X_test)\n",
    "\n",
    "model = SVM(kernel= 'rbf', max_iter=100, C=0.5)\n",
    "model.fit(X_train, y_train) \n",
    "predictions = model.predict(X_test)\n",
    "print(\"Classification accuracy with RBF kernel + PCA: %s\" % (accuracy(y_test, predictions)))\n",
    "\n",
    "model = SVM(kernel= 'linear', max_iter=100, C=0.5)\n",
    "model.fit(X_train, y_train) \n",
    "predictions = model.predict(X_test)\n",
    "print(\"Classification accuracy with linear kernel + PCA: %s\" % (accuracy(y_test, predictions)))\n",
    "\n",
    "model = SVM(kernel= 'poly', max_iter=100, C=0.5)\n",
    "model.fit(X_train, y_train) \n",
    "predictions = model.predict(X_test)\n",
    "print(\"Classification accuracy with poly kernel + PCA: %s\" % (accuracy(y_test, predictions)))"
   ]
  }
 ],
 "metadata": {
  "kernelspec": {
   "display_name": "base",
   "language": "python",
   "name": "python3"
  },
  "language_info": {
   "codemirror_mode": {
    "name": "ipython",
    "version": 3
   },
   "file_extension": ".py",
   "mimetype": "text/x-python",
   "name": "python",
   "nbconvert_exporter": "python",
   "pygments_lexer": "ipython3",
   "version": "3.9.12"
  },
  "orig_nbformat": 4
 },
 "nbformat": 4,
 "nbformat_minor": 2
}
